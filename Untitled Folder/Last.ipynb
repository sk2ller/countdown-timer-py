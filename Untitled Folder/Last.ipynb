{
 "cells": [
  {
   "cell_type": "code",
   "execution_count": 75,
   "id": "c5796d23",
   "metadata": {},
   "outputs": [
    {
     "name": "stdout",
     "output_type": "stream",
     "text": [
      "Enter the time in seconds: 10\n",
      "Fire in the hole!!\n"
     ]
    }
   ],
   "source": [
    "#simple one\n",
    "import time\n",
    "sound= r'C:\\Users\\user\\Desktop\\y2meta.com - Fire In The Hole Sound Effects _Counter Strike_ (128 kbps).mp3'\n",
    "def countdown(t):\n",
    "    while t:\n",
    "        mins, secs = divmod(t, 60)\n",
    "        timer = '{:02d}:{:02d}'.format(mins, secs)\n",
    "        print(timer, end=\"\\r\")\n",
    "        time.sleep(1)\n",
    "        t -= 1\n",
    "    print('Fire in the hole!!')\n",
    "t = input(\"Enter the time in seconds: \")\n",
    "countdown(int(t))"
   ]
  },
  {
   "cell_type": "code",
   "execution_count": 26,
   "id": "190b7e87",
   "metadata": {
    "scrolled": true
   },
   "outputs": [],
   "source": [
    "#the style and sound one\n",
    "import time\n",
    "from tkinter import *\n",
    "from playsound import playsound\n",
    "from tkinter import messagebox\n",
    "root = Tk()\n",
    "  \n",
    "root.geometry(\"1000x200\")\n",
    "  \n",
    "root.title(\"Time Counter\")\n",
    "  \n",
    "\n",
    "hour=StringVar()\n",
    "minute=StringVar()\n",
    "second=StringVar()\n",
    "\n",
    "  \n",
    "\n",
    "hour.set(\"00\")\n",
    "minute.set(\"00\")\n",
    "second.set(\"00\")\n",
    "  \n",
    "\n",
    "hourEntry= Entry(root, width=3, font=(\"Arial\",50,\"\"),\n",
    "                 textvariable=hour)\n",
    "hourEntry.place(x=340,y=40)\n",
    "  \n",
    "minuteEntry= Entry(root, width=3, font=(\"Arial\",50,\"\"),\n",
    "                   textvariable=minute)\n",
    "minuteEntry.place(x=440,y=40)\n",
    "  \n",
    "secondEntry= Entry(root, width=3, font=(\"Arial\",50,\"\"),\n",
    "                   textvariable=second)\n",
    "secondEntry.place(x=540,y=40)\n",
    "  \n",
    "  \n",
    "def submit():\n",
    "    try:\n",
    "        \n",
    "        temp = int(hour.get())*3600 + int(minute.get())*60 + int(second.get())\n",
    "    except:\n",
    "        print(\"Please input the right value\")\n",
    "    while temp >-1:\n",
    "         \n",
    "       \n",
    "        mins,secs = divmod(temp,60)\n",
    "  \n",
    "        \n",
    "        hours=0\n",
    "        if mins >60:\n",
    "             \n",
    "            \n",
    "            hours, mins = divmod(mins, 60)\n",
    "         \n",
    "       \n",
    "        hour.set(\"{0:2d}\".format(hours))\n",
    "        minute.set(\"{0:2d}\".format(mins))\n",
    "        second.set(\"{0:2d}\".format(secs))\n",
    "  \n",
    "        \n",
    "        root.update()\n",
    "        time.sleep(1)\n",
    "  \n",
    "        if (temp == 0):\n",
    "            messagebox.showinfo(\"CS:GO Countdown\", \"Fire in the hole\")\n",
    "            playsound('fier.mp3')\n",
    "\n",
    "         \n",
    "        \n",
    "        temp -= 1\n",
    " \n",
    "\n",
    "btn = Button(root, text='Set CS:GO Countdown', bd='5',\n",
    "             command= submit)\n",
    "btn.place(x = 430,y = 150)\n",
    "  \n",
    "\n",
    "root.mainloop()"
   ]
  }
 ],
 "metadata": {
  "kernelspec": {
   "display_name": "Python 3",
   "language": "python",
   "name": "python3"
  },
  "language_info": {
   "codemirror_mode": {
    "name": "ipython",
    "version": 3
   },
   "file_extension": ".py",
   "mimetype": "text/x-python",
   "name": "python",
   "nbconvert_exporter": "python",
   "pygments_lexer": "ipython3",
   "version": "3.8.8"
  }
 },
 "nbformat": 4,
 "nbformat_minor": 5
}
